{
 "cells": [
  {
   "cell_type": "code",
   "execution_count": 33,
   "id": "733c9eee-1b2f-4027-b05d-88fc6002c0c3",
   "metadata": {},
   "outputs": [],
   "source": [
    "import re\n",
    "import spotipy\n",
    "from spotipy.oauth2 import SpotifyClientCredentials\n",
    "import mysql.connector"
   ]
  },
  {
   "cell_type": "markdown",
   "id": "11f2355a-da00-4d20-90d8-99b6f728626f",
   "metadata": {},
   "source": [
    "# Spoify API credentials"
   ]
  },
  {
   "cell_type": "code",
   "execution_count": 34,
   "id": "ceeec9c6-ee17-4351-b257-eca4d591acda",
   "metadata": {},
   "outputs": [],
   "source": [
    "sp = spotipy.Spotify(auth_manager = SpotifyClientCredentials(\n",
    "    client_id = '41ea3eda75d74f8a9a7c448264640f73',\n",
    "    client_secret = 'cea3d8f8dca94a14b84d66d230cd14c4'\n",
    "))"
   ]
  },
  {
   "cell_type": "markdown",
   "id": "d9e08df5-7f02-47b4-bc52-224474886583",
   "metadata": {},
   "source": [
    "# Database Connection"
   ]
  },
  {
   "cell_type": "code",
   "execution_count": 35,
   "id": "55853078-f966-40a6-a8ea-740ff91a05f0",
   "metadata": {},
   "outputs": [],
   "source": [
    "db_config = {\n",
    "    'host' : 'localhost',\n",
    "    'user' : 'root',\n",
    "    'password' : 'Praveen@@8',\n",
    "    'database' : 'spotify_db'\n",
    "}"
   ]
  },
  {
   "cell_type": "markdown",
   "id": "27587bae-190a-4423-b1a6-730df669d2e8",
   "metadata": {},
   "source": [
    "# Connect to the Database"
   ]
  },
  {
   "cell_type": "code",
   "execution_count": 36,
   "id": "4406237b-f970-4b36-b1a1-42b369156b27",
   "metadata": {},
   "outputs": [],
   "source": [
    "connection = mysql.connector.connect(**db_config)\n",
    "cursor = connection.cursor()"
   ]
  },
  {
   "cell_type": "markdown",
   "id": "cef991be-3f80-4fde-b13c-3f7feaa1dd90",
   "metadata": {},
   "source": [
    "# Read track URLs from file "
   ]
  },
  {
   "cell_type": "code",
   "execution_count": 37,
   "id": "748d34fa-3b84-4b7f-b961-e1e66864b450",
   "metadata": {},
   "outputs": [],
   "source": [
    "file_path = \"C:\\\\Users\\\\Praveen\\\\Downloads\\\\Playlists.txt\"\n",
    "with open (file_path,'r') as file:\n",
    "    track_urls = file.readlines()"
   ]
  },
  {
   "cell_type": "markdown",
   "id": "873e21e0-3794-481f-ba15-cfa6952c4648",
   "metadata": {},
   "source": [
    "# Process each URL"
   ]
  },
  {
   "cell_type": "code",
   "execution_count": 38,
   "id": "939a3768-0d8b-408b-9601-6a41cd0b3a47",
   "metadata": {},
   "outputs": [
    {
     "name": "stdout",
     "output_type": "stream",
     "text": [
      "Inserted: One Dance by Drake\n",
      "Inserted: Vibe With Me by Matthaios\n",
      "Inserted: Gangsta's Paradise by Coolio\n",
      "Inserted: Run It Up by Hanumankind\n",
      "Error processing URL: https://open.spotify.com/artist/1Xyo4u8uXC1ZmMpatF05PJ, Error: 'NoneType' object has no attribute 'group'\n",
      "Inserted: Big Dawgs by Hanumankind\n",
      "Inserted: Millionaire by Yo Yo Honey Singh\n",
      "Inserted: Ride It by Jay Sean\n",
      "Error processing URL: https://open.spotify.com/playlist/7jsbs35GHnzcahgCaIgadt, Error: 'NoneType' object has no attribute 'group'\n",
      "Inserted: No Lie by Sean Paul\n",
      "Inserted: Under The Influence by Chris Brown\n",
      "Inserted: MIDDLE OF THE NIGHT by Elley Duhé\n",
      "Inserted: Me and the Devil by Soap&Skin\n",
      "Error processing URL: , Error: 'NoneType' object has no attribute 'group'\n",
      "Error processing URL: , Error: 'NoneType' object has no attribute 'group'\n",
      "Error processing URL: , Error: 'NoneType' object has no attribute 'group'\n",
      "Error processing URL: , Error: 'NoneType' object has no attribute 'group'\n",
      "Error processing URL: , Error: 'NoneType' object has no attribute 'group'\n",
      "All tracks have been processed and inserted into the database.\n"
     ]
    }
   ],
   "source": [
    "# Process each URL\n",
    "for track_url in track_urls:\n",
    "    track_url = track_url.strip()  # Remove any leading/trailing whitespace\n",
    "    try:\n",
    "        # Extract track ID from URL\n",
    "        track_id = re.search(r'track/([a-zA-Z0-9]+)', track_url).group(1)\n",
    "\n",
    "        # Fetch track details from Spotify API\n",
    "        track = sp.track(track_id)\n",
    "\n",
    "        # Extract metadata\n",
    "        track_data = {\n",
    "            'Track Name': track['name'],\n",
    "            'Artist': track['artists'][0]['name'],\n",
    "            'Album': track['album']['name'],\n",
    "            'Popularity': track['popularity'],\n",
    "            'Duration (minutes)': track['duration_ms'] / 60000\n",
    "        }\n",
    "\n",
    "        # Insert data into MySQL\n",
    "        insert_query = \"\"\"\n",
    "        INSERT INTO spotify_tracks (track_name, artist, album, popularity, duration_minutes)\n",
    "        VALUES (%s, %s, %s, %s, %s)\n",
    "        \"\"\"\n",
    "        cursor.execute(insert_query, (\n",
    "            track_data['Track Name'],\n",
    "            track_data['Artist'],\n",
    "            track_data['Album'],\n",
    "            track_data['Popularity'],\n",
    "            track_data['Duration (minutes)']\n",
    "        ))\n",
    "        connection.commit()\n",
    "\n",
    "        print(f\"Inserted: {track_data['Track Name']} by {track_data['Artist']}\")\n",
    "\n",
    "    except Exception as e:\n",
    "        print(f\"Error processing URL: {track_url}, Error: {e}\")\n",
    "cursor.close()\n",
    "connection.close()\n",
    "print(\"All tracks have been processed and inserted into the database.\")"
   ]
  },
  {
   "cell_type": "code",
   "execution_count": null,
   "id": "9d0ad2a1-ce1c-4c58-b381-4487dd7d515a",
   "metadata": {},
   "outputs": [],
   "source": []
  }
 ],
 "metadata": {
  "kernelspec": {
   "display_name": "Python 3 (ipykernel)",
   "language": "python",
   "name": "python3"
  },
  "language_info": {
   "codemirror_mode": {
    "name": "ipython",
    "version": 3
   },
   "file_extension": ".py",
   "mimetype": "text/x-python",
   "name": "python",
   "nbconvert_exporter": "python",
   "pygments_lexer": "ipython3",
   "version": "3.12.7"
  }
 },
 "nbformat": 4,
 "nbformat_minor": 5
}
