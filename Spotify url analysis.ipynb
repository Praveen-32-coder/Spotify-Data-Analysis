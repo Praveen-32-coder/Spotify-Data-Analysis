{
 "cells": [
  {
   "cell_type": "code",
   "execution_count": 2,
   "id": "45e216b5-8495-45c9-b797-ef59a47e47d5",
   "metadata": {},
   "outputs": [
    {
     "name": "stdout",
     "output_type": "stream",
     "text": [
      "Requirement already satisfied: spotipy in c:\\users\\praveen\\anaconda3\\lib\\site-packages (2.25.1)\n",
      "Requirement already satisfied: redis>=3.5.3 in c:\\users\\praveen\\anaconda3\\lib\\site-packages (from spotipy) (5.2.1)\n",
      "Requirement already satisfied: requests>=2.25.0 in c:\\users\\praveen\\anaconda3\\lib\\site-packages (from spotipy) (2.32.3)\n",
      "Requirement already satisfied: urllib3>=1.26.0 in c:\\users\\praveen\\anaconda3\\lib\\site-packages (from spotipy) (2.2.3)\n",
      "Requirement already satisfied: charset-normalizer<4,>=2 in c:\\users\\praveen\\anaconda3\\lib\\site-packages (from requests>=2.25.0->spotipy) (3.3.2)\n",
      "Requirement already satisfied: idna<4,>=2.5 in c:\\users\\praveen\\anaconda3\\lib\\site-packages (from requests>=2.25.0->spotipy) (3.7)\n",
      "Requirement already satisfied: certifi>=2017.4.17 in c:\\users\\praveen\\anaconda3\\lib\\site-packages (from requests>=2.25.0->spotipy) (2024.8.30)\n"
     ]
    }
   ],
   "source": [
    "!pip install spotipy"
   ]
  },
  {
   "cell_type": "code",
   "execution_count": 3,
   "id": "eb33cb5f-3b94-4207-8cce-9b5c1d55e206",
   "metadata": {},
   "outputs": [],
   "source": [
    "from spotipy.oauth2 import SpotifyClientCredentials\n",
    "import spotipy\n",
    "import pandas as pd \n",
    "import matplotlib.pyplot as plt\n",
    "import re"
   ]
  },
  {
   "cell_type": "markdown",
   "id": "b97d038f-6149-4179-94c1-ef8c04bc2ffd",
   "metadata": {},
   "source": [
    "# Set Client Details"
   ]
  },
  {
   "cell_type": "code",
   "execution_count": 4,
   "id": "2b602049-1650-40b3-925a-5bfdd89f79fb",
   "metadata": {},
   "outputs": [],
   "source": [
    "sp = spotipy.Spotify(auth_manager = SpotifyClientCredentials(\n",
    "    client_id = '41ea3eda75d74f8a9a7c448264640f73',\n",
    "    client_secret = 'cea3d8f8dca94a14b84d66d230cd14c4'\n",
    "))"
   ]
  },
  {
   "cell_type": "markdown",
   "id": "f9ccb04c-6346-4a53-a52b-0c6b716d2610",
   "metadata": {},
   "source": [
    "# Track URL"
   ]
  },
  {
   "cell_type": "code",
   "execution_count": 5,
   "id": "4c6569de-6f96-4497-ba19-8cfe4f2970d3",
   "metadata": {},
   "outputs": [],
   "source": [
    "track_url = \"https://open.spotify.com/track/0pqnGHJpmpxLKifKRmU6WP\""
   ]
  },
  {
   "cell_type": "markdown",
   "id": "7ca999f5-5613-4a86-847e-15bdec762e98",
   "metadata": {},
   "source": [
    "# Extract track id directly from URL using regex"
   ]
  },
  {
   "cell_type": "code",
   "execution_count": 6,
   "id": "db8bf3c5-2d79-446b-87e0-277f9197d5a9",
   "metadata": {},
   "outputs": [],
   "source": [
    "track_id = re.search(r'track/([a-zA-Z0-9]+)', track_url).group(1)"
   ]
  },
  {
   "cell_type": "markdown",
   "id": "a0b98fbc-ddb9-41a0-951d-3929ae2bba62",
   "metadata": {},
   "source": [
    "# Fetch track deails"
   ]
  },
  {
   "cell_type": "code",
   "execution_count": 7,
   "id": "a2717e53-6224-4764-942c-ca352fd69854",
   "metadata": {},
   "outputs": [
    {
     "name": "stdout",
     "output_type": "stream",
     "text": [
      "{'album': {'album_type': 'album', 'artists': [{'external_urls': {'spotify': 'https://open.spotify.com/artist/53XhwfbYqKCa1cC15pYq2q'}, 'href': 'https://api.spotify.com/v1/artists/53XhwfbYqKCa1cC15pYq2q', 'id': '53XhwfbYqKCa1cC15pYq2q', 'name': 'Imagine Dragons', 'type': 'artist', 'uri': 'spotify:artist:53XhwfbYqKCa1cC15pYq2q'}], 'available_markets': ['AR', 'AU', 'AT', 'BE', 'BO', 'BR', 'BG', 'CA', 'CL', 'CO', 'CR', 'CY', 'CZ', 'DK', 'DO', 'DE', 'EC', 'EE', 'SV', 'FI', 'FR', 'GR', 'GT', 'HN', 'HK', 'HU', 'IS', 'IE', 'IT', 'LV', 'LT', 'LU', 'MY', 'MT', 'MX', 'NL', 'NZ', 'NI', 'NO', 'PA', 'PY', 'PE', 'PH', 'PL', 'PT', 'SG', 'SK', 'ES', 'SE', 'CH', 'TW', 'TR', 'UY', 'US', 'GB', 'AD', 'LI', 'MC', 'ID', 'JP', 'TH', 'VN', 'RO', 'IL', 'ZA', 'SA', 'AE', 'BH', 'QA', 'OM', 'KW', 'EG', 'MA', 'DZ', 'TN', 'LB', 'JO', 'PS', 'IN', 'BY', 'KZ', 'MD', 'UA', 'AL', 'BA', 'HR', 'ME', 'MK', 'RS', 'SI', 'KR', 'BD', 'PK', 'LK', 'GH', 'KE', 'NG', 'TZ', 'UG', 'AG', 'AM', 'BS', 'BB', 'BZ', 'BT', 'BW', 'BF', 'CV', 'CW', 'DM', 'FJ', 'GM', 'GE', 'GD', 'GW', 'GY', 'HT', 'JM', 'KI', 'LS', 'LR', 'MW', 'MV', 'ML', 'MH', 'FM', 'NA', 'NR', 'NE', 'PW', 'PG', 'WS', 'SM', 'ST', 'SN', 'SC', 'SL', 'SB', 'KN', 'LC', 'VC', 'SR', 'TL', 'TO', 'TT', 'TV', 'VU', 'AZ', 'BN', 'BI', 'KH', 'CM', 'TD', 'KM', 'GQ', 'SZ', 'GA', 'GN', 'KG', 'LA', 'MO', 'MR', 'MN', 'NP', 'RW', 'TG', 'UZ', 'ZW', 'BJ', 'MG', 'MU', 'MZ', 'AO', 'CI', 'DJ', 'ZM', 'CD', 'CG', 'IQ', 'LY', 'TJ', 'VE', 'ET', 'XK'], 'external_urls': {'spotify': 'https://open.spotify.com/album/33pt9HBdGlAbRGBHQgsZsU'}, 'href': 'https://api.spotify.com/v1/albums/33pt9HBdGlAbRGBHQgsZsU', 'id': '33pt9HBdGlAbRGBHQgsZsU', 'images': [{'url': 'https://i.scdn.co/image/ab67616d0000b2735675e83f707f1d7271e5cf8a', 'width': 640, 'height': 640}, {'url': 'https://i.scdn.co/image/ab67616d00001e025675e83f707f1d7271e5cf8a', 'width': 300, 'height': 300}, {'url': 'https://i.scdn.co/image/ab67616d000048515675e83f707f1d7271e5cf8a', 'width': 64, 'height': 64}], 'name': 'Evolve', 'release_date': '2017-06-23', 'release_date_precision': 'day', 'total_tracks': 12, 'type': 'album', 'uri': 'spotify:album:33pt9HBdGlAbRGBHQgsZsU'}, 'artists': [{'external_urls': {'spotify': 'https://open.spotify.com/artist/53XhwfbYqKCa1cC15pYq2q'}, 'href': 'https://api.spotify.com/v1/artists/53XhwfbYqKCa1cC15pYq2q', 'id': '53XhwfbYqKCa1cC15pYq2q', 'name': 'Imagine Dragons', 'type': 'artist', 'uri': 'spotify:artist:53XhwfbYqKCa1cC15pYq2q'}], 'available_markets': ['AR', 'AU', 'AT', 'BE', 'BO', 'BR', 'BG', 'CA', 'CL', 'CO', 'CR', 'CY', 'CZ', 'DK', 'DO', 'DE', 'EC', 'EE', 'SV', 'FI', 'FR', 'GR', 'GT', 'HN', 'HK', 'HU', 'IS', 'IE', 'IT', 'LV', 'LT', 'LU', 'MY', 'MT', 'MX', 'NL', 'NZ', 'NI', 'NO', 'PA', 'PY', 'PE', 'PH', 'PL', 'PT', 'SG', 'SK', 'ES', 'SE', 'CH', 'TW', 'TR', 'UY', 'US', 'GB', 'AD', 'LI', 'MC', 'ID', 'JP', 'TH', 'VN', 'RO', 'IL', 'ZA', 'SA', 'AE', 'BH', 'QA', 'OM', 'KW', 'EG', 'MA', 'DZ', 'TN', 'LB', 'JO', 'PS', 'IN', 'BY', 'KZ', 'MD', 'UA', 'AL', 'BA', 'HR', 'ME', 'MK', 'RS', 'SI', 'KR', 'BD', 'PK', 'LK', 'GH', 'KE', 'NG', 'TZ', 'UG', 'AG', 'AM', 'BS', 'BB', 'BZ', 'BT', 'BW', 'BF', 'CV', 'CW', 'DM', 'FJ', 'GM', 'GE', 'GD', 'GW', 'GY', 'HT', 'JM', 'KI', 'LS', 'LR', 'MW', 'MV', 'ML', 'MH', 'FM', 'NA', 'NR', 'NE', 'PW', 'PG', 'WS', 'SM', 'ST', 'SN', 'SC', 'SL', 'SB', 'KN', 'LC', 'VC', 'SR', 'TL', 'TO', 'TT', 'TV', 'VU', 'AZ', 'BN', 'BI', 'KH', 'CM', 'TD', 'KM', 'GQ', 'SZ', 'GA', 'GN', 'KG', 'LA', 'MO', 'MR', 'MN', 'NP', 'RW', 'TG', 'UZ', 'ZW', 'BJ', 'MG', 'MU', 'MZ', 'AO', 'CI', 'DJ', 'ZM', 'CD', 'CG', 'IQ', 'LY', 'TJ', 'VE', 'ET', 'XK'], 'disc_number': 1, 'duration_ms': 204346, 'explicit': False, 'external_ids': {'isrc': 'USUM71700626'}, 'external_urls': {'spotify': 'https://open.spotify.com/track/0pqnGHJpmpxLKifKRmU6WP'}, 'href': 'https://api.spotify.com/v1/tracks/0pqnGHJpmpxLKifKRmU6WP', 'id': '0pqnGHJpmpxLKifKRmU6WP', 'is_local': False, 'name': 'Believer', 'popularity': 88, 'preview_url': None, 'track_number': 4, 'type': 'track', 'uri': 'spotify:track:0pqnGHJpmpxLKifKRmU6WP'}\n"
     ]
    }
   ],
   "source": [
    "track = sp.track(track_id)\n",
    "print(track)"
   ]
  },
  {
   "cell_type": "markdown",
   "id": "fd5ee24d-c970-4e86-8cfd-18095484ddf9",
   "metadata": {},
   "source": [
    "# Extract meta data"
   ]
  },
  {
   "cell_type": "code",
   "execution_count": 8,
   "id": "f7808706-8a7b-4928-be5b-6b6c5090e3a7",
   "metadata": {},
   "outputs": [],
   "source": [
    "track_data = {\n",
    "    'Track Name' : track['name'],\n",
    "    'Artist' : track['artists'][0]['name'],\n",
    "    'Album' : track['album']['name'],\n",
    "    'Popularity' : track['popularity'],\n",
    "    'Duration(minutes)' : track ['duration_ms']/60000\n",
    "}"
   ]
  },
  {
   "cell_type": "markdown",
   "id": "380467dd-d9d1-4b90-8f6e-8a2fb607cf35",
   "metadata": {},
   "source": [
    "# Display meta data"
   ]
  },
  {
   "cell_type": "code",
   "execution_count": 9,
   "id": "06e934f4-ecd0-45e7-90b9-71bea752f231",
   "metadata": {},
   "outputs": [
    {
     "name": "stdout",
     "output_type": "stream",
     "text": [
      "\n",
      "Track name : Believer\n",
      "Artist : Imagine Dragons\n",
      "Album : Evolve\n",
      "Popularity : 88\n",
      "Duration : 3.41 minutes\n"
     ]
    }
   ],
   "source": [
    "print(f\"\\nTrack name : {track_data['Track Name']}\")\n",
    "print(f\"Artist : {track_data['Artist']}\")\n",
    "print(f\"Album : {track_data['Album']}\")\n",
    "print(f\"Popularity : {track_data['Popularity']}\")\n",
    "print(f\"Duration : {track_data['Duration(minutes)']:.2f} minutes\")"
   ]
  },
  {
   "cell_type": "markdown",
   "id": "31f7d592-8147-4052-9bfe-1d265fa51736",
   "metadata": {},
   "source": [
    "# Convert meta data to Data Frame"
   ]
  },
  {
   "cell_type": "code",
   "execution_count": 10,
   "id": "ec759928-f4bd-4de2-a162-12b663a5f824",
   "metadata": {},
   "outputs": [
    {
     "name": "stdout",
     "output_type": "stream",
     "text": [
      "\n",
      "Track Data as DataFrame:\n",
      "  Track Name           Artist   Album  Popularity  Duration(minutes)\n",
      "0   Believer  Imagine Dragons  Evolve          88           3.405767\n"
     ]
    }
   ],
   "source": [
    "df = pd.DataFrame([track_data])\n",
    "print(\"\\nTrack Data as DataFrame:\")\n",
    "print(df)"
   ]
  },
  {
   "cell_type": "markdown",
   "id": "226b0795-9fac-474b-86c4-cba42f3b5d5c",
   "metadata": {},
   "source": [
    "# Save metadata to CSV"
   ]
  },
  {
   "cell_type": "code",
   "execution_count": 12,
   "id": "4bf3f742-c682-445f-969b-cf078363f0a2",
   "metadata": {},
   "outputs": [],
   "source": [
    "df.to_csv('spotify _track_data.csv',index=False)"
   ]
  },
  {
   "cell_type": "markdown",
   "id": "b0cba886-6b2d-4c54-acdc-3defa6e08b4b",
   "metadata": {},
   "source": [
    "# Visualize track data"
   ]
  },
  {
   "cell_type": "code",
   "execution_count": 34,
   "id": "a4b5d840-d8fe-4970-b3e4-4297b208909b",
   "metadata": {},
   "outputs": [
    {
     "data": {
      "image/png": "[encoded data removed]",
      "text/plain": [
       "<Figure size 800x500 with 1 Axes>"
      ]
     },
     "metadata": {},
     "output_type": "display_data"
    }
   ],
   "source": [
    "features = ['Popularity','Duration(minutes)']\n",
    "values  =[track_data['Popularity'],track_data['Duration(minutes)']]\n",
    "\n",
    "plt.figure (figsize = (8,5))\n",
    "plt.bar (features,values,color = 'skyblue',edgecolor = 'black')\n",
    "plt.title(f\"Track Metadata for '{track_data['Track Name']}'\")\n",
    "plt.ylabel ('Value')\n",
    "plt.show()"
   ]
  },
  {
   "cell_type": "code",
   "execution_count": null,
   "id": "d0f44195-6ab1-4c74-9b85-42d6f461ba9d",
   "metadata": {},
   "outputs": [],
   "source": []
  }
 ],
 "metadata": {
  "kernelspec": {
   "display_name": "Python 3 (ipykernel)",
   "language": "python",
   "name": "python3"
  },
  "language_info": {
   "codemirror_mode": {
    "name": "ipython",
    "version": 3
   },
   "file_extension": ".py",
   "mimetype": "text/x-python",
   "name": "python",
   "nbconvert_exporter": "python",
   "pygments_lexer": "ipython3",
   "version": "3.12.7"
  }
 },
 "nbformat": 4,
 "nbformat_minor": 5
}
